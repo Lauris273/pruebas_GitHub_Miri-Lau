{
 "cells": [
  {
   "cell_type": "code",
   "execution_count": null,
   "id": "cdde1990",
   "metadata": {},
   "outputs": [],
   "source": [
    "print('hola')"
   ]
  },
  {
   "cell_type": "code",
   "execution_count": null,
   "id": "9c6a25ed",
   "metadata": {},
   "outputs": [],
   "source": [
    "print('adios')"
   ]
  }
 ],
 "metadata": {
  "language_info": {
   "name": "python"
  }
 },
 "nbformat": 4,
 "nbformat_minor": 5
}
