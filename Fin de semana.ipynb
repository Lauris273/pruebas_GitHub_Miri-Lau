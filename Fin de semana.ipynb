{
 "cells": [
  {
   "cell_type": "markdown",
   "id": "3fa5d694",
   "metadata": {},
   "source": [
    "Qué quiero hacer éste fin de semana:\n",
    "\n",
    "- Salir a comer una buena presa a la brasa\n",
    "- Tomarme unas cervezas con mi novio y amigas\n",
    "- Dar paseos (antes de que haga calor) con los perros"
   ]
  },
  {
   "cell_type": "code",
   "execution_count": null,
   "id": "0d35ccd4",
   "metadata": {},
   "outputs": [],
   "source": []
  }
 ],
 "metadata": {
  "language_info": {
   "name": "python"
  }
 },
 "nbformat": 4,
 "nbformat_minor": 5
}
